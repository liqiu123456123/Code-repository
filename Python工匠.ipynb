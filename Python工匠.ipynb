{
 "cells": [
  {
   "cell_type": "code",
   "execution_count": 2,
   "id": "initial_id",
   "metadata": {
    "collapsed": true,
    "ExecuteTime": {
     "end_time": "2024-09-28T09:36:10.854095200Z",
     "start_time": "2024-09-28T09:36:10.848695900Z"
    }
   },
   "outputs": [
    {
     "name": "stdout",
     "output_type": "stream",
     "text": [
      "111\n"
     ]
    }
   ],
   "source": [
    "print(111)"
   ]
  },
  {
   "cell_type": "code",
   "outputs": [
    {
     "name": "stdout",
     "output_type": "stream",
     "text": [
      "1\n",
      "2\n",
      "3\n"
     ]
    }
   ],
   "source": [
    "# 元组解包示例\n",
    "tuple_value = (1, 2, 3)\n",
    "a, b, c = tuple_value\n",
    "\n",
    "print(a)  # 输出 1\n",
    "print(b)  # 输出 2\n",
    "print(c)  # 输出 3\n"
   ],
   "metadata": {
    "collapsed": false,
    "ExecuteTime": {
     "end_time": "2024-09-28T10:30:00.770605Z",
     "start_time": "2024-09-28T10:30:00.741702700Z"
    }
   },
   "id": "58f37b0c4ed4df00",
   "execution_count": 3
  },
  {
   "cell_type": "code",
   "outputs": [
    {
     "name": "stdout",
     "output_type": "stream",
     "text": [
      "Hello, Alice. You are 25 years old.\n"
     ]
    }
   ],
   "source": [
    "# 字典解包示例\n",
    "def greet(name, age):\n",
    "    print(f\"Hello, {name}. You are {age} years old.\")\n",
    "\n",
    "person = {'name': 'Alice', 'age': 25}\n",
    "\n",
    "# 使用字典解包\n",
    "greet(**person)  # 输出：Hello, Alice. You are 25 years old.\n"
   ],
   "metadata": {
    "collapsed": false,
    "ExecuteTime": {
     "end_time": "2024-09-28T10:34:47.775473300Z",
     "start_time": "2024-09-28T10:34:47.744210400Z"
    }
   },
   "id": "2223d15b07edc5ff",
   "execution_count": 4
  },
  {
   "cell_type": "code",
   "outputs": [],
   "source": [
    "def greet(name: str) -> str:\n",
    "    return f\"Hello, {name}\"\n",
    "\n",
    "# 为变量添加类型提示\n",
    "age: int = 30\n"
   ],
   "metadata": {
    "collapsed": false,
    "ExecuteTime": {
     "end_time": "2024-09-30T00:23:29.931205500Z",
     "start_time": "2024-09-30T00:23:29.922877300Z"
    }
   },
   "id": "d2c270d571969965",
   "execution_count": 2
  },
  {
   "cell_type": "code",
   "outputs": [
    {
     "data": {
      "text/plain": "30"
     },
     "execution_count": 3,
     "metadata": {},
     "output_type": "execute_result"
    }
   ],
   "source": [
    "age"
   ],
   "metadata": {
    "collapsed": false,
    "ExecuteTime": {
     "end_time": "2024-09-30T00:23:38.322758100Z",
     "start_time": "2024-09-30T00:23:38.285521900Z"
    }
   },
   "id": "c8fe49060fb3e21a",
   "execution_count": 3
  },
  {
   "cell_type": "code",
   "outputs": [],
   "source": [
    "from typing import List, Dict, Tuple\n",
    "\n",
    "# 列表类型提示\n",
    "names: List[str] = [\"Alice\", \"Bob\", \"Charlie\"]\n",
    "\n",
    "# 字典类型提示\n",
    "scores: Dict[str, int] = {\"Alice\": 90, \"Bob\": 85}\n",
    "\n",
    "# 元组类型提示\n",
    "coordinates: Tuple[int, int] = (10, 20)\n"
   ],
   "metadata": {
    "collapsed": false,
    "ExecuteTime": {
     "end_time": "2024-09-30T00:27:04.634283700Z",
     "start_time": "2024-09-30T00:27:04.607657400Z"
    }
   },
   "id": "b1992283de3391ab",
   "execution_count": 4
  },
  {
   "cell_type": "code",
   "outputs": [
    {
     "data": {
      "text/plain": "{'Alice': 90, 'Bob': 85}"
     },
     "execution_count": 5,
     "metadata": {},
     "output_type": "execute_result"
    }
   ],
   "source": [
    "scores"
   ],
   "metadata": {
    "collapsed": false,
    "ExecuteTime": {
     "end_time": "2024-09-30T00:28:40.985923100Z",
     "start_time": "2024-09-30T00:28:40.963256200Z"
    }
   },
   "id": "dcf7e13da87efe3c",
   "execution_count": 5
  },
  {
   "cell_type": "code",
   "outputs": [],
   "source": [
    "from typing import Optional\n",
    "\n",
    "def find_user(user_id: int) -> Optional[str]:\n",
    "    if user_id == 1:\n",
    "        return \"Alice\"\n",
    "    return None\n"
   ],
   "metadata": {
    "collapsed": false,
    "ExecuteTime": {
     "end_time": "2024-09-30T00:30:20.163583800Z",
     "start_time": "2024-09-30T00:30:20.133755800Z"
    }
   },
   "id": "843187035b70ac91",
   "execution_count": 6
  },
  {
   "cell_type": "code",
   "outputs": [],
   "source": [
    "from enum import Enum\n",
    "\n",
    "class Color(Enum):\n",
    "    RED = 1\n",
    "    GREEN = 2\n",
    "    BLUE = 3\n"
   ],
   "metadata": {
    "collapsed": false,
    "ExecuteTime": {
     "end_time": "2024-09-30T00:57:32.364669100Z",
     "start_time": "2024-09-30T00:57:32.342559200Z"
    }
   },
   "id": "698f4221b76afc32",
   "execution_count": 7
  },
  {
   "cell_type": "code",
   "outputs": [
    {
     "name": "stdout",
     "output_type": "stream",
     "text": [
      "Color.RED\n"
     ]
    }
   ],
   "source": [
    "print(Color.RED)"
   ],
   "metadata": {
    "collapsed": false,
    "ExecuteTime": {
     "end_time": "2024-09-30T00:59:37.152651800Z",
     "start_time": "2024-09-30T00:59:37.124254Z"
    }
   },
   "id": "b179de4545a21e21",
   "execution_count": 10
  },
  {
   "cell_type": "code",
   "outputs": [
    {
     "name": "stdout",
     "output_type": "stream",
     "text": [
      "Color.RED\n",
      "RED\n",
      "1\n"
     ]
    }
   ],
   "source": [
    "print(Color.RED)         # 输出：Color.RED\n",
    "print(Color.RED.name)    # 输出：RED\n",
    "print(Color.RED.value)   # 输出：1\n"
   ],
   "metadata": {
    "collapsed": false,
    "ExecuteTime": {
     "end_time": "2024-09-30T00:59:57.524532Z",
     "start_time": "2024-09-30T00:59:57.506090600Z"
    }
   },
   "id": "366901151f59f2e9",
   "execution_count": 11
  },
  {
   "cell_type": "code",
   "outputs": [],
   "source": [
    "from enum import Enum\n",
    "\n",
    "class Shape(Enum):\n",
    "    CIRCLE = 1\n",
    "    SQUARE = 2\n",
    "\n",
    "class ExtendedShape(Enum):\n",
    "    RECTANGLE = 3\n",
    "    TRIANGLE = 4\n"
   ],
   "metadata": {
    "collapsed": false,
    "ExecuteTime": {
     "end_time": "2024-09-30T01:10:04.976239400Z",
     "start_time": "2024-09-30T01:10:04.948578200Z"
    }
   },
   "id": "d535da2ce786a8a",
   "execution_count": 12
  },
  {
   "cell_type": "code",
   "outputs": [
    {
     "data": {
      "text/plain": "<Shape.CIRCLE: 1>"
     },
     "execution_count": 14,
     "metadata": {},
     "output_type": "execute_result"
    }
   ],
   "source": [
    "Shape.CIRCLE"
   ],
   "metadata": {
    "collapsed": false,
    "ExecuteTime": {
     "end_time": "2024-09-30T01:10:30.699951700Z",
     "start_time": "2024-09-30T01:10:30.674582Z"
    }
   },
   "id": "91ad0156809b6337",
   "execution_count": 14
  },
  {
   "cell_type": "code",
   "outputs": [
    {
     "name": "stdout",
     "output_type": "stream",
     "text": [
      "OrderStatus.PENDING\n"
     ]
    }
   ],
   "source": [
    "class OrderStatus(Enum):\n",
    "    PENDING = 1\n",
    "    PROCESSING = 2\n",
    "    COMPLETED = 3\n",
    "    CANCELED = 4\n",
    "\n",
    "order_status = OrderStatus.PENDING\n",
    "print(order_status)  # 输出：OrderStatus.PENDING\n"
   ],
   "metadata": {
    "collapsed": false,
    "ExecuteTime": {
     "end_time": "2024-09-30T01:11:22.313960400Z",
     "start_time": "2024-09-30T01:11:22.287960500Z"
    }
   },
   "id": "40aa485315e97d0e",
   "execution_count": 15
  },
  {
   "cell_type": "code",
   "outputs": [
    {
     "name": "stdout",
     "output_type": "stream",
     "text": [
      "1\n",
      "2\n",
      "3\n",
      "11111\n"
     ]
    }
   ],
   "source": [
    "class MyIterator:\n",
    "    def __init__(self, data):\n",
    "        self.data = data\n",
    "        self.index = 0\n",
    "\n",
    "    def __iter__(self):\n",
    "        return self\n",
    "\n",
    "    def __next__(self):\n",
    "        if self.index < len(self.data):\n",
    "            value = self.data[self.index]\n",
    "            self.index += 1\n",
    "            return value\n",
    "        else:\n",
    "            print(11111)\n",
    "            raise StopIteration\n",
    "\n",
    "# 使用自定义的迭代器\n",
    "my_iterator = MyIterator([1, 2, 3])\n",
    "for item in my_iterator:\n",
    "    print(item)\n"
   ],
   "metadata": {
    "collapsed": false,
    "ExecuteTime": {
     "end_time": "2024-10-01T13:55:01.141988700Z",
     "start_time": "2024-10-01T13:55:01.099450300Z"
    }
   },
   "id": "471c1a12673bfb9",
   "execution_count": 2
  },
  {
   "cell_type": "code",
   "outputs": [],
   "source": [],
   "metadata": {
    "collapsed": false
   },
   "id": "5246a352990e15e0"
  },
  {
   "cell_type": "code",
   "outputs": [
    {
     "name": "stdout",
     "output_type": "stream",
     "text": [
      "torch.Size([1, 3, 336, 336])\n"
     ]
    }
   ],
   "source": [
    "from transformers import CLIPImageProcessor\n",
    "from PIL import Image\n",
    "\n",
    "# 加载本地图像\n",
    "image_path = r\"C:\\Users\\Administrator\\PycharmProjects\\code_res\\image\\car.jpg\"\n",
    "image = Image.open(image_path)\n",
    "\n",
    "# 自定义初始化 CLIPImageProcessor\n",
    "processor = CLIPImageProcessor(\n",
    "    do_resize=True, \n",
    "    do_center_crop=True, \n",
    "    crop_size={\"height\": 336, \"width\": 336},  # 裁剪为 224x224\n",
    "    do_normalize=True, \n",
    "    image_mean=[0.48145466, 0.4578275, 0.40821073], \n",
    "    image_std=[0.26862954, 0.26130258, 0.27577711]\n",
    ")\n",
    "\n",
    "# 处理图像，返回 tensor\n",
    "processed_image = processor(images=image, return_tensors=\"pt\")\n",
    "\n",
    "# 输出图像的尺寸\n",
    "print(processed_image['pixel_values'].shape)\n"
   ],
   "metadata": {
    "collapsed": false,
    "ExecuteTime": {
     "end_time": "2024-10-02T02:37:46.882935400Z",
     "start_time": "2024-10-02T02:37:46.806999700Z"
    }
   },
   "id": "420e40620b7042d",
   "execution_count": 7
  },
  {
   "cell_type": "code",
   "outputs": [
    {
     "name": "stdout",
     "output_type": "stream",
     "text": [
      "torch.Size([1, 3, 224, 224])\n",
      "Processed image saved at: C:\\Users\\Administrator\\PycharmProjects\\code_res\\image\\processed_car.jpg\n"
     ]
    }
   ],
   "source": [
    "from transformers import CLIPImageProcessor\n",
    "from PIL import Image\n",
    "import torch\n",
    "import numpy as np\n",
    "\n",
    "# 加载本地图像\n",
    "image_path = r\"C:\\Users\\Administrator\\PycharmProjects\\code_res\\image\\car.jpg\"\n",
    "image = Image.open(image_path)\n",
    "\n",
    "# 初始化处理器\n",
    "processor = CLIPImageProcessor.from_pretrained(\"openai/clip-vit-base-patch32\")\n",
    "\n",
    "# 处理图像，返回 tensor\n",
    "processed_image = processor(images=image, return_tensors=\"pt\")['pixel_values']\n",
    "print(processed_image.shape)\n",
    "# 将 PyTorch tensor 转换为 NumPy 数组\n",
    "processed_image_np = processed_image.squeeze().permute(1, 2, 0).numpy()\n",
    "\n",
    "# 反归一化图像，以便转换为可视化的图像\n",
    "mean = np.array([0.48145466, 0.4578275, 0.40821073])\n",
    "std = np.array([0.26862954, 0.26130258, 0.27577711])\n",
    "processed_image_np = (processed_image_np * std + mean) * 255\n",
    "processed_image_np = np.clip(processed_image_np, 0, 255).astype(np.uint8)\n",
    "\n",
    "# 将 NumPy 数组转换回 PIL Image\n",
    "processed_image_pil = Image.fromarray(processed_image_np)\n",
    "\n",
    "# 保存图像\n",
    "output_path = r\"C:\\Users\\Administrator\\PycharmProjects\\code_res\\image\\processed_car.jpg\"\n",
    "processed_image_pil.save(output_path)\n",
    "\n",
    "print(f\"Processed image saved at: {output_path}\")\n"
   ],
   "metadata": {
    "collapsed": false,
    "ExecuteTime": {
     "end_time": "2024-10-02T02:43:28.443822200Z",
     "start_time": "2024-10-02T02:43:27.857794300Z"
    }
   },
   "id": "a370038cc66e822",
   "execution_count": 9
  },
  {
   "cell_type": "code",
   "outputs": [
    {
     "name": "stdout",
     "output_type": "stream",
     "text": [
      "torch.Size([1, 3, 224, 224])\n",
      "Processed image saved at: C:\\Users\\Administrator\\PycharmProjects\\code_res\\image\\processed_car_no_crop.jpg\n"
     ]
    }
   ],
   "source": [
    "from transformers import CLIPImageProcessor\n",
    "from PIL import Image\n",
    "import torch\n",
    "import numpy as np\n",
    "\n",
    "# 加载本地图像\n",
    "image_path = r\"C:\\Users\\Administrator\\PycharmProjects\\code_res\\image\\car.jpg\"\n",
    "image = Image.open(image_path)\n",
    "\n",
    "# 初始化处理器，不进行裁剪，仅进行缩放\n",
    "processor = CLIPImageProcessor(\n",
    "    do_resize=True,  # 只缩放，不裁剪\n",
    "    size={\"height\": 224, \"width\": 224},  # 缩放至224x224大小\n",
    "    do_center_crop=False,  # 禁用中心裁剪\n",
    "    do_normalize=True, \n",
    "    image_mean=[0.48145466, 0.4578275, 0.40821073], \n",
    "    image_std=[0.26862954, 0.26130258, 0.27577711]\n",
    ")\n",
    "\n",
    "# 处理图像，返回 tensor\n",
    "processed_image = processor(images=image, return_tensors=\"pt\")['pixel_values']\n",
    "print(processed_image.shape)\n",
    "\n",
    "# 将 PyTorch tensor 转换为 NumPy 数组\n",
    "processed_image_np = processed_image.squeeze().permute(1, 2, 0).numpy()\n",
    "\n",
    "# 反归一化图像，以便转换为可视化的图像\n",
    "mean = np.array([0.48145466, 0.4578275, 0.40821073])\n",
    "std = np.array([0.26862954, 0.26130258, 0.27577711])\n",
    "processed_image_np = (processed_image_np * std + mean) * 255\n",
    "processed_image_np = np.clip(processed_image_np, 0, 255).astype(np.uint8)\n",
    "\n",
    "# 将 NumPy 数组转换回 PIL Image\n",
    "processed_image_pil = Image.fromarray(processed_image_np)\n",
    "\n",
    "# 保存图像\n",
    "output_path = r\"C:\\Users\\Administrator\\PycharmProjects\\code_res\\image\\processed_car_no_crop.jpg\"\n",
    "processed_image_pil.save(output_path)\n",
    "\n",
    "print(f\"Processed image saved at: {output_path}\")\n"
   ],
   "metadata": {
    "collapsed": false,
    "ExecuteTime": {
     "end_time": "2024-10-02T02:51:09.432640600Z",
     "start_time": "2024-10-02T02:51:09.353569500Z"
    }
   },
   "id": "d19ad05b0b55ec5e",
   "execution_count": 10
  },
  {
   "cell_type": "code",
   "outputs": [
    {
     "name": "stdout",
     "output_type": "stream",
     "text": [
      "Processed image tensor shape: torch.Size([1, 3, 336, 336])\n",
      "Processed image saved at: C:\\Users\\Administrator\\PycharmProjects\\code_res\\image\\processed_car336_new.jpg\n"
     ]
    }
   ],
   "source": [
    "from transformers import CLIPImageProcessor\n",
    "from PIL import Image\n",
    "import torch\n",
    "import numpy as np\n",
    "\n",
    "# 加载本地图像\n",
    "image_path = r\"C:\\Users\\Administrator\\PycharmProjects\\code_res\\image\\car.jpg\"\n",
    "image = Image.open(image_path)\n",
    "\n",
    "# 显式使用 CLIPImageProcessor 初始化处理器\n",
    "processor = CLIPImageProcessor.from_pretrained(\"openai/clip-vit-base-patch32\")\n",
    "\n",
    "# 处理图像，返回 PyTorch tensor。这里明确指定 'return_tensors' 参数为 'pt' 以获取 PyTorch 格式\n",
    "processed_image = processor(images=image, return_tensors=\"pt\")['pixel_values']\n",
    "print(f\"Processed image tensor shape: {processed_image.shape}\")\n",
    "\n",
    "# 将 PyTorch tensor 转换为 NumPy 数组，注意要先移除 batch 维度 (squeeze) 再转置轴 (permute)\n",
    "processed_image_np = processed_image.squeeze().permute(1, 2, 0).numpy()\n",
    "\n",
    "# 使用 CLIP 的均值和标准差进行反归一化，以便转换为可视化的图像\n",
    "mean = np.array([0.48145466, 0.4578275, 0.40821073])\n",
    "std = np.array([0.26862954, 0.26130258, 0.27577711])\n",
    "# 反归一化处理：乘以标准差再加回均值，并乘以 255 以转换为标准 RGB 范围\n",
    "processed_image_np = (processed_image_np * std + mean) * 255\n",
    "# 使用 np.clip 确保像素值在 0 到 255 之间，并转换为 uint8 类型\n",
    "processed_image_np = np.clip(processed_image_np, 0, 255).astype(np.uint8)\n",
    "\n",
    "# 将 NumPy 数组转换回 PIL Image 以便保存或进一步操作\n",
    "processed_image_pil = Image.fromarray(processed_image_np)\n",
    "\n",
    "# 保存处理后的图像到指定路径\n",
    "output_path = r\"C:\\Users\\Administrator\\PycharmProjects\\code_res\\image\\processed_car336_new.jpg\"\n",
    "processed_image_pil.save(output_path)\n",
    "\n",
    "print(f\"Processed image saved at: {output_path}\")\n"
   ],
   "metadata": {
    "collapsed": false,
    "ExecuteTime": {
     "end_time": "2024-10-02T03:06:21.480552Z",
     "start_time": "2024-10-02T03:06:21.001812900Z"
    }
   },
   "id": "7ec7190da4fc827d",
   "execution_count": 16
  },
  {
   "cell_type": "code",
   "outputs": [],
   "source": [],
   "metadata": {
    "collapsed": false
   },
   "id": "f3db11819f3df703"
  }
 ],
 "metadata": {
  "kernelspec": {
   "display_name": "Python 3",
   "language": "python",
   "name": "python3"
  },
  "language_info": {
   "codemirror_mode": {
    "name": "ipython",
    "version": 2
   },
   "file_extension": ".py",
   "mimetype": "text/x-python",
   "name": "python",
   "nbconvert_exporter": "python",
   "pygments_lexer": "ipython2",
   "version": "2.7.6"
  }
 },
 "nbformat": 4,
 "nbformat_minor": 5
}
